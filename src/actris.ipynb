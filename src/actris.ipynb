{
 "cells": [
  {
   "cell_type": "code",
   "execution_count": 10,
   "metadata": {},
   "outputs": [],
   "source": [
    "import requests\n",
    "import xarray as xr "
   ]
  },
  {
   "cell_type": "markdown",
   "metadata": {},
   "source": [
    "# List stations"
   ]
  },
  {
   "cell_type": "code",
   "execution_count": 11,
   "metadata": {},
   "outputs": [],
   "source": [
    "def get_list_stations():\n",
    "\n",
    "    response = requests.get('https://prod-actris-md.nilu.no/Stations')\n",
    "    \n",
    "    stations_demonstrator = []\n",
    "    \n",
    "    for station in response.json():\n",
    "\n",
    "        stations_demonstrator.append({'short_name': station['identifier'],'latitude': station['lat'],'longitude': station['lon'],'long_name': station['name'],'altitude': station['alt']})\n",
    "    \n",
    "    return stations_demonstrator"
   ]
  },
  {
   "cell_type": "code",
   "execution_count": 12,
   "metadata": {},
   "outputs": [
    {
     "name": "stdout",
     "output_type": "stream",
     "text": [
      "[{'short_name': 'ABY', 'latitude': 51.858, 'longitude': -4.252, 'long_name': 'Aberystwyth', 'altitude': 15.0}, {'short_name': 'AGI', 'latitude': 35.0381, 'longitude': 33.0578, 'long_name': 'Agia Marina Xyliatou', 'altitude': 520.0}, {'short_name': 'AHT', 'latitude': 62.583333, 'longitude': 24.183333, 'long_name': 'Ahtari', 'altitude': 180.0}, {'short_name': 'AKY', 'latitude': 35.86, 'longitude': 23.31, 'long_name': 'Antikythera', 'altitude': 193.0}, {'short_name': 'ALT', 'latitude': 82.499146, 'longitude': -62.341526, 'long_name': 'Alert', 'altitude': 210.0}, {'short_name': 'AMB', 'latitude': 40.384444, 'longitude': 44.260583, 'long_name': 'Amberd', 'altitude': 2080.0}, {'short_name': 'ANB', 'latitude': 50.571667, 'longitude': 12.998889, 'long_name': 'Annaberg-Buchholz', 'altitude': 545.0}, {'short_name': 'ANM', 'latitude': 44.348, 'longitude': 26.029, 'long_name': 'Bucharest', 'altitude': 93.0}, {'short_name': 'APT', 'latitude': 58.8, 'longitude': 17.383333, 'long_name': 'Aspvreten', 'altitude': 20.0}, {'short_name': 'ARN', 'latitude': 37.1, 'longitude': -6.733333, 'long_name': 'El_Arenosillo', 'altitude': 41.0}, {'short_name': 'ARR', 'latitude': 69.278, 'longitude': 16.008, 'long_name': 'Andoya', 'altitude': 380.0}, {'short_name': 'ASC', 'latitude': -7.967, 'longitude': -14.35, 'long_name': 'Ascension Island', 'altitude': 341.0}, {'short_name': 'ATS', 'latitude': 38.366667, 'longitude': 23.083333, 'long_name': 'Aliartos', 'altitude': 110.0}, {'short_name': 'ATZ', 'latitude': 37.96, 'longitude': 23.78, 'long_name': 'Athens', 'altitude': 212.0}, {'short_name': 'AUC', 'latitude': 55.79216, 'longitude': -3.2429, 'long_name': 'Auchencorth_Moss', 'altitude': 260.0}, {'short_name': 'AWA', 'latitude': -77.85, 'longitude': 166.73, 'long_name': 'West Antarctic', 'altitude': 76.0}, {'short_name': 'BEO', 'latitude': 42.166667, 'longitude': 23.583333, 'long_name': 'BEO_Moussala', 'altitude': 2971.0}, {'short_name': 'BGD', 'latitude': 44.8557, 'longitude': 20.3913, 'long_name': 'Belgrade', 'altitude': 89.0}, {'short_name': 'BHD', 'latitude': -41.408192, 'longitude': 174.870804, 'long_name': 'Baring Head', 'altitude': 85.0}, {'short_name': 'BIR', 'latitude': 58.38853, 'longitude': 8.252, 'long_name': 'Birkenes', 'altitude': 219.0}, {'short_name': 'BOL', 'latitude': 52.998055, 'longitude': 7.9425, 'long_name': 'Bosel', 'altitude': 40.0}, {'short_name': 'BRB', 'latitude': 13.164, 'longitude': -59.432, 'long_name': 'Barbados', 'altitude': 20.0}, {'short_name': 'BRC', 'latitude': 41.393, 'longitude': 2.12, 'long_name': 'Barcelona', 'altitude': 115.0}, {'short_name': 'BRM', 'latitude': 47.189614, 'longitude': 8.175434, 'long_name': 'Beromuenster', 'altitude': 797.0}, {'short_name': 'BRW', 'latitude': 71.323013, 'longitude': -156.611465, 'long_name': 'Barrow', 'altitude': 11.0}, {'short_name': 'BSV', 'latitude': 52.333333, 'longitude': 23.433333, 'long_name': 'Vysokoe', 'altitude': 163.0}, {'short_name': 'BUJ', 'latitude': 39.5, 'longitude': -0.42, 'long_name': 'Burjassot', 'altitude': 30.0}, {'short_name': 'CBO', 'latitude': 51.149617, 'longitude': -1.438228, 'long_name': 'Chilbolton_Observatory', 'altitude': 78.0}, {'short_name': 'CBW', 'latitude': 51.97, 'longitude': 4.93, 'long_name': 'Cabauw', 'altitude': 0.0}, {'short_name': 'CCD', 'latitude': 42.031, 'longitude': -70.049, 'long_name': 'Cape Cod', 'altitude': 15.0}, {'short_name': 'CGR', 'latitude': 37.571111, 'longitude': 12.659722, 'long_name': 'Capo_Granitola', 'altitude': 5.0}, {'short_name': 'CHC', 'latitude': -16.200001, 'longitude': -68.099998, 'long_name': 'Mount_Chacaltaya', 'altitude': 5320.0}, {'short_name': 'CHI', 'latitude': 51.144, 'longitude': -1.439, 'long_name': 'Chilbolton', 'altitude': 85.0}, {'short_name': 'CHU', 'latitude': 49.066667, 'longitude': 13.6, 'long_name': 'Churanov', 'altitude': 1118.0}, {'short_name': 'CLJ', 'latitude': 46.7682, 'longitude': 23.5509, 'long_name': 'Cluj-Napoca', 'altitude': 405.0}, {'short_name': 'CMN', 'latitude': 44.183333, 'longitude': 10.7, 'long_name': 'Mt_Cimone', 'altitude': 2165.0}, {'short_name': 'CMT', 'latitude': 47.049722, 'longitude': 6.979444, 'long_name': 'Chaumont', 'altitude': 1137.0}, {'short_name': 'COG', 'latitude': 51.83, 'longitude': 20.78, 'long_name': 'Belsk', 'altitude': 180.0}, {'short_name': 'CPR', 'latitude': 18.381, 'longitude': -65.618, 'long_name': 'Cape San Juan', 'altitude': 65.0}, {'short_name': 'CTN', 'latitude': 37.51, 'longitude': 15.08, 'long_name': 'Astrophysical_Laboratory_Catania', 'altitude': 190.0}, {'short_name': 'CVO', 'latitude': 16.86403, 'longitude': -24.86752, 'long_name': 'Cape_Verde_Atmospheric_Observato', 'altitude': 10.0}, {'short_name': 'CWI', 'latitude': 51.974444, 'longitude': 4.923611, 'long_name': 'Cabauw_Wielsekade', 'altitude': 1.0}, {'short_name': 'CYP', 'latitude': 35.0381, 'longitude': 33.0578, 'long_name': 'Cyprus Atmospheric Observatory', 'altitude': 520.0}, {'short_name': 'CZI', 'latitude': 51.970278, 'longitude': 4.926389, 'long_name': 'Cabauw_Zijdeweg', 'altitude': 1.0}, {'short_name': 'DEM', 'latitude': 37.994999, 'longitude': 23.816, 'long_name': 'DEM_Athens', 'altitude': 270.0}, {'short_name': 'DES', 'latitude': 50.603222, 'longitude': 13.465583, 'long_name': 'Deutschneudorf', 'altitude': 660.0}, {'short_name': 'DNO', 'latitude': 48.5, 'longitude': 7.133333, 'long_name': 'Donon', 'altitude': 775.0}, {'short_name': 'DUS', 'latitude': 38.5594, 'longitude': 68.8561, 'long_name': 'Dushanbe', 'altitude': 864.0}, {'short_name': 'DWN', 'latitude': -12.426, 'longitude': 130.898, 'long_name': 'Darwin', 'altitude': 30.0}, {'short_name': 'ECO', 'latitude': 40.3349, 'longitude': 18.1114, 'long_name': 'Lecce_University-of-Salento', 'altitude': 30.0}, {'short_name': 'EGB', 'latitude': 44.231006, 'longitude': -79.783839, 'long_name': 'Egbert', 'altitude': 255.0}, {'short_name': 'ERS', 'latitude': 42.9694, 'longitude': 9.3803, 'long_name': 'Ersa', 'altitude': 533.0}, {'short_name': 'ETL', 'latitude': 54.353743, 'longitude': -104.986864, 'long_name': 'East Trout Lake', 'altitude': 500.0}, {'short_name': 'EUP', 'latitude': 50.629421, 'longitude': 6.001019, 'long_name': 'Eupen', 'altitude': 295.0}, {'short_name': 'EVO', 'latitude': 38.5678, 'longitude': -7.9115, 'long_name': 'Evora', 'altitude': 293.0}, {'short_name': 'FIK', 'latitude': 35.3377, 'longitude': 25.6698, 'long_name': 'Finokalia', 'altitude': 238.0}, {'short_name': 'FKL', 'latitude': 35.316667, 'longitude': 25.666667, 'long_name': 'Finokalia', 'altitude': 250.0}, {'short_name': 'GAR', 'latitude': 47.477, 'longitude': 11.064, 'long_name': 'Garmisch-Partenkirchen', 'altitude': 730.0}, {'short_name': 'GLH', 'latitude': 36.0722, 'longitude': 14.2184, 'long_name': 'Giordan_Lighthouse', 'altitude': 167.0}, {'short_name': 'GRA', 'latitude': 37.164, 'longitude': -3.605, 'long_name': 'Granada', 'altitude': 680.0}, {'short_name': 'GRW', 'latitude': 39.092, 'longitude': -28.031, 'long_name': 'Graciosa', 'altitude': 30.0}, {'short_name': 'GSN', 'latitude': 33.293917, 'longitude': 126.163111, 'long_name': 'Gosan', 'altitude': 71.0}, {'short_name': 'HAC', 'latitude': 37.984265, 'longitude': 22.196262, 'long_name': 'Helmos_Mountain', 'altitude': 2340.0}, {'short_name': 'HBB', 'latitude': 53.48, 'longitude': 10.241, 'long_name': 'Hamburg-Bergedorf', 'altitude': 40.0}, {'short_name': 'HBU', 'latitude': 53.568, 'longitude': 9.973, 'long_name': 'Hamburg', 'altitude': 25.0}, {'short_name': 'HOU', 'latitude': 51.01628, 'longitude': 2.58232, 'long_name': 'Houtem', 'altitude': 2.0}, {'short_name': 'HPB', 'latitude': 47.8019, 'longitude': 11.0119, 'long_name': 'Hohenpeissenberg', 'altitude': 974.0}, {'short_name': 'HTM', 'latitude': 56.09763, 'longitude': 13.41897, 'long_name': 'Hyltemossa', 'altitude': 115.0}, {'short_name': 'HUD', 'latitude': 60.372386, 'longitude': 11.078142, 'long_name': 'Hurdal', 'altitude': 300.0}, {'short_name': 'ILL', 'latitude': 47.766666, 'longitude': 16.766666, 'long_name': 'Illmitz', 'altitude': 117.0}, {'short_name': 'INO', 'latitude': 44.348, 'longitude': 26.029, 'long_name': 'Bucharest', 'altitude': 93.0}, {'short_name': 'IPR', 'latitude': 45.8, 'longitude': 8.633333, 'long_name': 'Ispra', 'altitude': 209.0}, {'short_name': 'IQU', 'latitude': -20.539, 'longitude': -70.177, 'long_name': 'Iquique', 'altitude': 56.0}, {'short_name': 'IZO', 'latitude': 28.309, 'longitude': -16.4994, 'long_name': 'Izana', 'altitude': 2373.0}, {'short_name': 'JFJ', 'latitude': 46.5475, 'longitude': 7.985, 'long_name': 'Jungfraujoch', 'altitude': 3578.0}, {'short_name': 'JUE', 'latitude': 50.906, 'longitude': 6.407, 'long_name': 'Juelich', 'altitude': 108.0}, {'short_name': 'KEN', 'latitude': 67.988, 'longitude': 24.243, 'long_name': 'Kenttarova', 'altitude': 342.0}, {'short_name': 'KLD', 'latitude': 54.746495, 'longitude': 10.73616, 'long_name': 'Keldsnor', 'altitude': 10.0}, {'short_name': 'KOK', 'latitude': 51.12092, 'longitude': 2.65854, 'long_name': 'Koksijde', 'altitude': 4.0}, {'short_name': 'KOS', 'latitude': 49.573394, 'longitude': 15.080278, 'long_name': 'Kosetice', 'altitude': 535.0}, {'short_name': 'KPS', 'latitude': 46.966667, 'longitude': 19.583333, 'long_name': 'K-puszta', 'altitude': 125.0}, {'short_name': 'KRV', 'latitude': 62.783333, 'longitude': 8.883333, 'long_name': 'Kaarvatn', 'altitude': 210.0}, {'short_name': 'KUH', 'latitude': 54.12, 'longitude': 11.77, 'long_name': 'Kuehlungsborn', 'altitude': 70.0}, {'short_name': 'KUO', 'latitude': 62.7333, 'longitude': 27.55, 'long_name': 'Kuopio', 'altitude': 190.0}, {'short_name': 'LAQ', 'latitude': 42.344, 'longitude': 13.327, 'long_name': 'L_Aquila', 'altitude': 683.0}, {'short_name': 'LEE', 'latitude': 51.345833, 'longitude': 12.406389, 'long_name': 'Leipzig-Eisenbahnstrasse', 'altitude': 120.0}, {'short_name': 'LEI', 'latitude': 51.35, 'longitude': 12.433, 'long_name': 'Leipzig', 'altitude': 125.0}, {'short_name': 'LEM', 'latitude': 51.344167, 'longitude': 12.377222, 'long_name': 'Leipzig-Mitte', 'altitude': 111.0}, {'short_name': 'LIM', 'latitude': 34.67, 'longitude': 33.04, 'long_name': 'Limassol', 'altitude': 10.0}, {'short_name': 'LIN', 'latitude': 52.208, 'longitude': 14.118, 'long_name': 'Lindenberg', 'altitude': 104.0}, {'short_name': 'LIS', 'latitude': 38.72, 'longitude': -9.15, 'long_name': 'Lisbon', 'altitude': 50.0}, {'short_name': 'LKP', 'latitude': 58.392, 'longitude': 15.575, 'long_name': 'Linkoping', 'altitude': 70.0}, {'short_name': 'LLE', 'latitude': 50.6117, 'longitude': 3.1417, 'long_name': 'Lille', 'altitude': 60.0}, {'short_name': 'LMP', 'latitude': 35.52, 'longitude': 12.63, 'long_name': 'Lampedusa', 'altitude': 45.0}, {'short_name': 'LNK', 'latitude': 51.521, 'longitude': -0.2135, 'long_name': 'London_North_Kensington', 'altitude': 27.0}, {'short_name': 'MAD', 'latitude': 40.456436, 'longitude': -3.725631, 'long_name': 'Madrid', 'altitude': 669.0}, {'short_name': 'MAI', 'latitude': -21.079, 'longitude': 55.383, 'long_name': 'Maido', 'altitude': 2200.0}, {'short_name': 'MAL', 'latitude': 1.978, 'longitude': 73.396, 'long_name': 'Maldives', 'altitude': 1.0}, {'short_name': 'MAS', 'latitude': 53.917, 'longitude': 27.605, 'long_name': 'Minsk', 'altitude': 200.0}, {'short_name': 'MDR', 'latitude': 40.4565, 'longitude': -3.7257, 'long_name': 'Madrid', 'altitude': 669.0}, {'short_name': 'MEL', 'latitude': 51.53014, 'longitude': 12.93386, 'long_name': 'Melpitz', 'altitude': 86.0}, {'short_name': 'MHD', 'latitude': 53.32583, 'longitude': -9.89944, 'long_name': 'Mace-Head', 'altitude': 5.0}, {'short_name': 'MHN', 'latitude': 39.87528, 'longitude': 4.31639, 'long_name': 'Mahon', 'altitude': 78.0}, {'short_name': 'MLO', 'latitude': 19.53623, 'longitude': -155.576157, 'long_name': 'Mauna Loa', 'altitude': 3397.0}, {'short_name': 'MOE', 'latitude': 51.25457, 'longitude': 3.36254, 'long_name': 'Moerkerke', 'altitude': 3.0}, {'short_name': 'MSA', 'latitude': 42.05134, 'longitude': 0.72956, 'long_name': 'Montsec', 'altitude': 1571.0}, {'short_name': 'MSY', 'latitude': 41.766667, 'longitude': 2.35, 'long_name': 'Montseny', 'altitude': 700.0}, {'short_name': 'MUC', 'latitude': 48.209, 'longitude': 11.258, 'long_name': 'Maisach', 'altitude': 516.0}, {'short_name': 'MUN', 'latitude': 48.15, 'longitude': 11.57, 'long_name': 'Munich', 'altitude': 539.0}, {'short_name': 'MUR', 'latitude': 48.54, 'longitude': 8.397, 'long_name': 'Murgtal', 'altitude': 511.0}, {'short_name': 'NAP', 'latitude': 40.838, 'longitude': 14.183, 'long_name': 'Naples', 'altitude': 118.0}, {'short_name': 'NCL', 'latitude': 37.69, 'longitude': 14.97, 'long_name': 'Nicolosi_Serra_La_Nave_Observato', 'altitude': 1740.0}, {'short_name': 'NEU', 'latitude': 47.0017, 'longitude': 6.9546, 'long_name': 'Neuchatel', 'altitude': 487.0}, {'short_name': 'NGL', 'latitude': 53.166667, 'longitude': 13.033333, 'long_name': 'Neuglobsow', 'altitude': 62.0}, {'short_name': 'NIE', 'latitude': 43.43917, 'longitude': -4.85, 'long_name': 'Niembro', 'altitude': 134.0}, {'short_name': 'NMY', 'latitude': -70.666, 'longitude': -8.266, 'long_name': 'Neumayer', 'altitude': 42.0}, {'short_name': 'NOR', 'latitude': 60.086, 'longitude': 17.479, 'long_name': 'Norunda', 'altitude': 46.0}, {'short_name': 'NOS', 'latitude': 60.0858, 'longitude': 17.50528, 'long_name': 'Norunda_Stenen', 'altitude': 45.0}, {'short_name': 'NOT', 'latitude': 60.086389, 'longitude': 17.479444, 'long_name': 'Norunda_Tornet', 'altitude': 46.0}, {'short_name': 'NYA', 'latitude': 78.924, 'longitude': 11.87, 'long_name': 'Ny-Ålesund', 'altitude': 25.0}, {'short_name': 'OFF', 'latitude': 49.877778, 'longitude': 5.203611, 'long_name': 'Offagne', 'altitude': 430.0}, {'short_name': 'OHP', 'latitude': 43.9, 'longitude': 5.7, 'long_name': 'Haute-Provence', 'altitude': 680.0}, {'short_name': 'OMP', 'latitude': 38.467556, 'longitude': -28.401722, 'long_name': 'Pico Mountain Observatory', 'altitude': 2225.0}, {'short_name': 'OPE', 'latitude': 48.562222, 'longitude': 5.505556, 'long_name': 'Observatoire-Perenne-de-Environn', 'altitude': 392.0}, {'short_name': 'OUX', 'latitude': 66.320278, 'longitude': 29.401667, 'long_name': 'Oulanka', 'altitude': 310.0}, {'short_name': 'OXK', 'latitude': 50.0301, 'longitude': 11.8084, 'long_name': 'Ochsenkopf', 'altitude': 1020.0}, {'short_name': 'PAL', 'latitude': 67.973333, 'longitude': 24.116111, 'long_name': 'Pallas', 'altitude': 565.0}, {'short_name': 'PAY', 'latitude': 46.813056, 'longitude': 6.944722, 'long_name': 'Payerne', 'altitude': 489.0}, {'short_name': 'PDM', 'latitude': 42.936667, 'longitude': 0.141944, 'long_name': 'Pic-du-Midi', 'altitude': 2877.0}, {'short_name': 'PGS', 'latitude': 50.126389, 'longitude': 14.384648, 'long_name': 'Prague-Suchdol', 'altitude': 270.0}, {'short_name': 'PLA', 'latitude': 55.376111, 'longitude': 21.030556, 'long_name': 'Preila', 'altitude': 5.0}, {'short_name': 'POT', 'latitude': 40.6, 'longitude': 15.72, 'long_name': 'Potenza', 'altitude': 760.0}, {'short_name': 'PUN', 'latitude': -53.135, 'longitude': -70.883, 'long_name': 'Punta-Arenas', 'altitude': 9.0}, {'short_name': 'PUY', 'latitude': 45.761, 'longitude': 3.111, 'long_name': 'Clermont-Ferrand', 'altitude': 420.0}, {'short_name': 'PYE', 'latitude': 43.616667, 'longitude': 0.183333, 'long_name': 'Peyrusse-Vieille', 'altitude': 200.0}, {'short_name': 'REV', 'latitude': 49.9, 'longitude': 4.633333, 'long_name': 'Revin', 'altitude': 390.0}, {'short_name': 'RIG', 'latitude': 47.0675, 'longitude': 8.463889, 'long_name': 'Rigi', 'altitude': 1031.0}, {'short_name': 'RIS', 'latitude': 55.693588, 'longitude': 12.085797, 'long_name': 'Risoe', 'altitude': 3.0}, {'short_name': 'RME', 'latitude': 41.833, 'longitude': 12.65, 'long_name': 'Roma-Tor_Vergata', 'altitude': 110.0}, {'short_name': 'RUD', 'latitude': -20.9, 'longitude': 55.48, 'long_name': 'La-Reunion_St-Denis', 'altitude': None}, {'short_name': 'RUN', 'latitude': -21.079449, 'longitude': 55.383006, 'long_name': 'La-Reunion', 'altitude': 2160.0}, {'short_name': 'SAL', 'latitude': 40.333, 'longitude': 18.1, 'long_name': 'Lecce', 'altitude': 30.0}, {'short_name': 'SAV', 'latitude': 62.89, 'longitude': 27.631, 'long_name': 'Savilahti', 'altitude': 100.0}, {'short_name': 'SGP', 'latitude': 36.608, 'longitude': -97.488, 'long_name': 'Southern Great Plains', 'altitude': 316.0}, {'short_name': 'SIR', 'latitude': 48.713, 'longitude': 2.208, 'long_name': 'Palaiseau', 'altitude': 156.0}, {'short_name': 'SMR', 'latitude': 61.85, 'longitude': 24.283333, 'long_name': 'Hyytiala', 'altitude': 181.0}, {'short_name': 'SMU', 'latitude': 50.65, 'longitude': 10.766667, 'long_name': 'Schmucke', 'altitude': 937.0}, {'short_name': 'SNB', 'latitude': 47.05407, 'longitude': 12.95794, 'long_name': 'Sonnblick', 'altitude': 3106.0}, {'short_name': 'SNO', 'latitude': 81.6, 'longitude': -16.67, 'long_name': 'Villum Research Station - Station Nord', 'altitude': 20.0}, {'short_name': 'SOD', 'latitude': 67.364, 'longitude': 26.628, 'long_name': 'Sodankyla', 'altitude': 180.0}, {'short_name': 'SOF', 'latitude': 42.65, 'longitude': 23.38, 'long_name': 'Sofia', 'altitude': 550.0}, {'short_name': 'SPL', 'latitude': 59.9427, 'longitude': 30.273, 'long_name': 'St_Petersburg', 'altitude': 35.0}, {'short_name': 'SPM', 'latitude': 39.54694, 'longitude': -4.35056, 'long_name': 'San Pablo de los Montes', 'altitude': 917.0}, {'short_name': 'SSL', 'latitude': 47.914722, 'longitude': 7.908611, 'long_name': 'Schauinsland', 'altitude': 1205.0}, {'short_name': 'string', 'latitude': 82.499146, 'longitude': -62.341526, 'long_name': 'Alert', 'altitude': 210.0}, {'short_name': 'STS', 'latitude': 40.445, 'longitude': -106.74, 'long_name': 'Steamboat Springs', 'altitude': 3220.0}, {'short_name': 'SUM', 'latitude': 72.6, 'longitude': -38.42, 'long_name': 'Summit', 'altitude': 3255.0}, {'short_name': 'TAD', 'latitude': 46.65, 'longitude': -0.75, 'long_name': 'La-Tardiere', 'altitude': 133.0}, {'short_name': 'TAE', 'latitude': 47.479722, 'longitude': 8.904722, 'long_name': 'Tanikon', 'altitude': 539.0}, {'short_name': 'THE', 'latitude': 40.63, 'longitude': 22.95, 'long_name': 'Thessaloniki', 'altitude': 50.0}, {'short_name': 'THG', 'latitude': -72.0117, 'longitude': 2.5351, 'long_name': 'Trollhaugen', 'altitude': 1553.0}, {'short_name': 'TIK', 'latitude': 71.586166, 'longitude': 128.918823, 'long_name': 'Tiksi', 'altitude': 8.0}, {'short_name': 'TLL', 'latitude': -30.17254, 'longitude': -70.79923, 'long_name': 'El Tololo', 'altitude': 2220.0}, {'short_name': 'TMN', 'latitude': 50.304003, 'longitude': 6.001271, 'long_name': 'TMNT09-Vielsalm', 'altitude': 496.0}, {'short_name': 'TRL', 'latitude': -72.016667, 'longitude': 2.533333, 'long_name': 'Troll', 'altitude': 1309.0}, {'short_name': 'TUV', 'latitude': 65.833333, 'longitude': 13.916667, 'long_name': 'Tustervatn', 'altitude': 439.0}, {'short_name': 'UCC', 'latitude': 51.8933, 'longitude': -8.4942, 'long_name': 'Cork', 'altitude': 75.0}, {'short_name': 'UGR', 'latitude': 37.164, 'longitude': -3.605, 'long_name': 'Granada', 'altitude': 680.0}, {'short_name': 'UST', 'latitude': 50.66109, 'longitude': 14.04029, 'long_name': 'Usti_nL-mesto', 'altitude': 147.0}, {'short_name': 'UTO', 'latitude': 59.779167, 'longitude': 21.377222, 'long_name': 'Uto', 'altitude': 7.0}, {'short_name': 'VAR', 'latitude': 67.766667, 'longitude': 29.583333, 'long_name': 'Varrio', 'altitude': 400.0}, {'short_name': 'VAV', 'latitude': 56.016667, 'longitude': 13.15, 'long_name': 'Vavihill', 'altitude': 175.0}, {'short_name': 'VDA', 'latitude': 50.611017, 'longitude': 3.14035, 'long_name': 'Villeneuve_d-Ascq', 'altitude': 70.0}, {'short_name': 'VEH', 'latitude': 62.738, 'longitude': 27.543, 'long_name': 'Vehmasmaki', 'altitude': 190.0}, {'short_name': 'VIZ', 'latitude': 37.23722, 'longitude': -3.53417, 'long_name': 'Viznar', 'altitude': 1230.0}, {'short_name': 'VOH', 'latitude': 46.677778, 'longitude': 12.972222, 'long_name': 'Vorhegg', 'altitude': 1020.0}, {'short_name': 'VTO', 'latitude': 51.939722, 'longitude': -10.244444, 'long_name': 'Valentia Observatory', 'altitude': 11.0}, {'short_name': 'WAL', 'latitude': 52.802222, 'longitude': 10.759444, 'long_name': 'Waldhof', 'altitude': 74.0}, {'short_name': 'WAW', 'latitude': 52.21, 'longitude': 20.98, 'long_name': 'Warsaw', 'altitude': 112.0}, {'short_name': 'WES', 'latitude': 54.925556, 'longitude': 8.309722, 'long_name': 'Westerland', 'altitude': 12.0}, {'short_name': 'WEY', 'latitude': 52.95, 'longitude': 1.12, 'long_name': 'Weybourne', 'altitude': 50.0}, {'short_name': 'YAC', 'latitude': -32.126, 'longitude': -64.728, 'long_name': 'Villa Yacanto', 'altitude': 1141.0}, {'short_name': 'ZEP', 'latitude': 78.90715, 'longitude': 11.88668, 'long_name': 'zeppelin_mountain', 'altitude': None}, {'short_name': 'ZGT', 'latitude': 54.4368, 'longitude': 12.7249, 'long_name': 'Zingst', 'altitude': 1.0}, {'short_name': 'ZOE', 'latitude': 47.838611, 'longitude': 14.441389, 'long_name': 'Zoebelboden', 'altitude': 899.0}, {'short_name': 'ZSF', 'latitude': 47.4165, 'longitude': 10.97964, 'long_name': 'Zugspitze-Schneefernerhaus', 'altitude': 2671.0}]\n"
     ]
    }
   ],
   "source": [
    "print(get_list_stations())"
   ]
  },
  {
   "cell_type": "markdown",
   "metadata": {},
   "source": [
    "# List variables"
   ]
  },
  {
   "cell_type": "code",
   "execution_count": 13,
   "metadata": {},
   "outputs": [],
   "source": [
    "def get_list_variables():\n",
    "\n",
    "    response = requests.get('https://prod-actris-md.nilu.no/ContentInformation/attributes')\n",
    "    \n",
    "    ecv_aerosol = []\n",
    "    \n",
    "    for v in response.json():\n",
    "        \n",
    "        if 'particle' in v['attribute_type'] or 'aerosol' in v['attribute_type']:\n",
    "            ecv_aerosol.append(v['attribute_type'])\n",
    "\n",
    "    ecv_cloud = []\n",
    "\n",
    "    for v in response.json():\n",
    "\n",
    "        if 'cloud' in v['attribute_type']:\n",
    "            ecv_cloud.append(v['attribute_type'])\n",
    "    \n",
    "    variables_demonstrator = []\n",
    "\n",
    "    for var in response.json():\n",
    "\n",
    "        \n",
    "        if var['attribute_type'] in ecv_cloud: \n",
    "            variables_demonstrator.append({'variable_name': var['attribute_type'], 'ECV_name': ['Cloud Properties']})\n",
    "        elif var['attribute_type'] in ecv_aerosol:\n",
    "            variables_demonstrator.append({'variable_name': var['attribute_type'], 'ECV_name': ['Aerosol Properties']})\n",
    "        else:\n",
    "            pass\n",
    "        \n",
    "    return variables_demonstrator\n"
   ]
  },
  {
   "cell_type": "code",
   "execution_count": 14,
   "metadata": {},
   "outputs": [
    {
     "name": "stdout",
     "output_type": "stream",
     "text": [
      "[{'variable_name': 'aerosol.absorption.coefficient', 'ECV_name': ['Aerosol Properties']}, {'variable_name': 'aerosol.backscatter.coefficient', 'ECV_name': ['Aerosol Properties']}, {'variable_name': 'aerosol.backscatter.coefficient.hemispheric', 'ECV_name': ['Aerosol Properties']}, {'variable_name': 'aerosol.backscatter.ratio', 'ECV_name': ['Aerosol Properties']}, {'variable_name': 'aerosol.depolarisation.coefficient', 'ECV_name': ['Aerosol Properties']}, {'variable_name': 'aerosol.depolarisation.ratio', 'ECV_name': ['Aerosol Properties']}, {'variable_name': 'aerosol.extinction.coefficient', 'ECV_name': ['Aerosol Properties']}, {'variable_name': 'aerosol.extinction.ratio', 'ECV_name': ['Aerosol Properties']}, {'variable_name': 'aerosol.extinction.to.backscatter.ratio', 'ECV_name': ['Aerosol Properties']}, {'variable_name': 'aerosol.optical.depth', 'ECV_name': ['Aerosol Properties']}, {'variable_name': 'aerosol.optical.depth.550', 'ECV_name': ['Aerosol Properties']}, {'variable_name': 'aerosol.rayleigh.backscatter', 'ECV_name': ['Aerosol Properties']}, {'variable_name': 'aerosol.scattering.coefficient', 'ECV_name': ['Aerosol Properties']}, {'variable_name': 'cloud.aerosol.target.classification', 'ECV_name': ['Cloud Properties']}, {'variable_name': 'cloud.fraction', 'ECV_name': ['Cloud Properties']}, {'variable_name': 'cloud.mask', 'ECV_name': ['Cloud Properties']}, {'variable_name': 'particle.number.concentration', 'ECV_name': ['Aerosol Properties']}, {'variable_name': 'particle.number.size.distribution', 'ECV_name': ['Aerosol Properties']}]\n"
     ]
    }
   ],
   "source": [
    "print(get_list_variables())"
   ]
  },
  {
   "cell_type": "markdown",
   "metadata": {},
   "source": [
    "# List datasets"
   ]
  },
  {
   "cell_type": "code",
   "execution_count": 15,
   "metadata": {},
   "outputs": [],
   "source": [
    "def list_datasets(variables,temporal_extent,spatial_extent):\n",
    "    \n",
    "    temporal_extent = [start_time, end_time]\n",
    "    spatial_extent=[lon0, lat0, lon1, lat1]\n",
    "\n",
    "    dataset_endpoints = []\n",
    "    \n",
    "    headers = {\n",
    "    'accept': 'application/json',\n",
    "    'Content-Type': 'application/json',\n",
    "    }\n",
    "\n",
    "    data = '{\"where\":{\"argument\":{\"type\":\"content\",\"sub-type\":\"attribute_type\",\"value\":'+ str(variables) +',\"case-sensitive\":false,\"and\":{\"argument\":{\"type\":\"temporal_extent\",\"comparison-operator\":\"overlap\",\"value\":[\"'+ temporal_extent[0] +'\",\"'+ temporal_extent[1] +'\"]}}}}}'\n",
    "\n",
    "    response = requests.post('https://prod-actris-md.nilu.no/Metadata/query', headers=headers, data=data)\n",
    "\n",
    "    for ds in response.json():\n",
    "\n",
    "        \n",
    "        # spatial extent\n",
    "    \n",
    "\n",
    "        lat_point, lon_point = ds['md_data_identification']['station']['lat'], ds['md_data_identification']['station']['lon']\n",
    "\n",
    "        if (lon0 < lon_point < lon1) and (lat0 < lat_point < lat1) == True:\n",
    "            dataset_endpoints.append(ds['md_distribution_information']['dataset_url'])\n",
    "        else:\n",
    "            pass\n",
    "            \n",
    "    return dataset_endpoints"
   ]
  },
  {
   "cell_type": "code",
   "execution_count": 16,
   "metadata": {},
   "outputs": [
    {
     "name": "stdout",
     "output_type": "stream",
     "text": [
      "['http://thredds.nilu.no/thredds/dodsC/ebas/NO0042G.20000301000000.20170523103005.dmps.particle_number_size_distribution.aerosol.6y.1h.NO01L_dmps_no42.NO01L_dmps.lev2.nc', 'https://thredds.nilu.no/thredds/dodsC/ebas/SE0023R.20170101000000.20210122094244.filter_absorption_photometer.aerosol_absorption_coefficient.pm10.3y.1h.SE03L_Thermo-MAAP_5012-368.SE03L_abs_coef_MAAP_v1.lev2.nc', 'https://thredds.nilu.no/thredds/dodsC/ebas/SE0023R.20170101000000.20201109204520.dmps.particle_number_size_distribution.pm10.3y.1h.SE03L_MILOU.SE03L_DMPS_EUSAAR.lev2.nc', 'http://thredds.nilu.no/thredds/dodsC/ebas/NO0002R.20151217090000.20170504082503.dmps.particle_number_size_distribution.pm10.72w.1h.NO01L_NILU_DMPSmodel2_BIR_NRT.NO01L_dmps_DMPS_BIR05..nc', 'https://thredds.nilu.no/thredds/dodsC/ebas/NL0011R.20140101000000.20180703102718.filter_absorption_photometer.aerosol_absorption_coefficient.pm10.2y.1h.NL02L_Thermo_5012_TNO.NL02L_abs_coef.lev1.nc', 'https://thredds.nilu.no/thredds/dodsC/ebas/NL0011R.20130101000000.20200709115956.filter_absorption_photometer.aerosol_absorption_coefficient.pm10.7y.1h.NL02L_Thermo_5012_TNO.NL02L_abs_coef.lev2.nc', 'https://thredds.nilu.no/thredds/dodsC/ebas/NL0011R.20120101000000.20181205113000.filter_absorption_photometer.aerosol_absorption_coefficient.pm10.1y.1h.NL02L_Thermo_5012_TNO.NL02L_abs_coef.lev2_dup1.nc', 'https://thredds.nilu.no/thredds/dodsC/ebas/NL0011R.20120101000000.20181205113000.filter_absorption_photometer.aerosol_absorption_coefficient.pm10.1y.1h.NL02L_Thermo_5012_TNO.NL02L_abs_coef.lev2.nc', 'https://thredds.nilu.no/thredds/dodsC/ebas/NL0011R.20080101000000.20181205113000.filter_absorption_photometer.aerosol_absorption_coefficient.pm10.4y.1h.NL02L_Thermo_5012_TNO.NL02L_abs_coef.lev2.nc', 'http://thredds.nilu.no/thredds/dodsC/ebas/NO0042G.20160506060000.20170505102504.dmps.particle_number_size_distribution.pm10.1y.1h.NO01L_DMPS_ZEP1_NRT.NO01L_dmps_DMPS_ZEP01..nc', 'http://thredds.nilu.no/thredds/dodsC/ebas/NO0002R.20150101000000.20160520171653.filter_absorption_photometer.aerosol_absorption_coefficient.pm10.1y.1h.NO01L_MISU_PSAP-1W_BIR_dry.NO01L_abs_coef_MISU_v2.lev0.nc', 'http://thredds.nilu.no/thredds/dodsC/ebas/NO0002R.20130101000000.20160523103523.filter_absorption_photometer.aerosol_absorption_coefficient.pm10.2y.1h.NO01L_MISU_PSAP-1W_BIR_dry.NO01L_abs_coef_MISU_v2.lev0.nc', 'http://thredds.nilu.no/thredds/dodsC/ebas/NO0002R.20100101000000.20181205113000.filter_absorption_photometer.aerosol_absorption_coefficient.pm10.3y.1h.NO01L_MISU_PSAP-1W_BIR_dry.NO01L_abs_coef_MISU.lev2.nc', 'http://thredds.nilu.no/thredds/dodsC/ebas/IT0004R.20170101000000.20200519115705.filter_absorption_photometer.aerosol_absorption_coefficient.pm10.1y.1h.IT04L_MageeAE31B.IT04L_bc.lev2.nc', 'http://thredds.nilu.no/thredds/dodsC/ebas/NO0002R.20090710120000.20181205100800.dmps.particle_number_size_distribution.pm10.25w.1h.NO01L_DMPS_BIR1.NO01L_dmps_DMPS_BIR01.lev2.nc', 'http://thredds.nilu.no/thredds/dodsC/ebas/NO0002R.20090708000000.20181205113000.filter_absorption_photometer.aerosol_absorption_coefficient.pm10.6mo.1h.NO01L_PSAP_NO01.NO01L_abs_coeff_MISU_PSAP_Bond_1999.lev2.nc', 'http://thredds.nilu.no/thredds/dodsC/ebas/NL0011R.20100101000000.20181031145000.nephelometer.aerosol_light_backscattering_coefficient.pm10.1y.1h.NL02L_TSI_3563_TNO.NL02L_scat_coef.lev2.nc', 'http://thredds.nilu.no/thredds/dodsC/ebas/NL0011R.20050101000000.20181031145000.nephelometer.aerosol_light_scattering_coefficient.aerosol.1y.1h.NL01L_Neph1.NL01L_scatter_coef.lev2.nc', 'http://thredds.nilu.no/thredds/dodsC/ebas/IT0004R.20190101000000.20200430000000.filter_absorption_photometer.aerosol_absorption_coefficient.pm10.1y.1h.IT04L_MageeAE31B.IT04L_bc.lev2.nc', 'http://thredds.nilu.no/thredds/dodsC/ebas/IT0004R.20180101000000.20200519115705.filter_absorption_photometer.aerosol_absorption_coefficient.pm10.120w.1h.IT04L_MageeAE31B.IT04L_bc.lev2.nc', 'http://thredds.nilu.no/thredds/dodsC/ebas/IT0004R.20171201000000.20200311123349.filter_absorption_photometer.aerosol_absorption_coefficient.pm10.4mo.2mn.IT04L_MageeAE31A.IT04L_bc.lev2.nc', 'http://thredds.nilu.no/thredds/dodsC/ebas/IT0004R.20170101000000.20180612000000.filter_absorption_photometer.aerosol_absorption_coefficient.pm10.1y.1h.IT04L_MAAP-5012_A.IT04L_MAAP.lev2.nc', 'http://thredds.nilu.no/thredds/dodsC/ebas/IT0004R.20160101000000.20200311123349.filter_absorption_photometer.aerosol_absorption_coefficient.pm10.2y.1h.IT04L_MageeAE31A.IT04L_bc.lev2.nc', 'http://thredds.nilu.no/thredds/dodsC/ebas/IT0004R.20160101000000.20190806115642.filter_absorption_photometer.aerosol_absorption_coefficient.pm10.1y.1h.IT04L_MAAP-5012.IT04L_MAAP.lev2.nc', 'http://thredds.nilu.no/thredds/dodsC/ebas/IT0004R.20160101000000.20170426000000.filter_absorption_photometer.aerosol_absorption_coefficient.pm10.1y.1h.IT04L_MageeAE31A_7400609.IT04L_bc.lev2.nc', 'http://thredds.nilu.no/thredds/dodsC/ebas/IT0004R.20160101000000.20170426000000.dmps.particle_number_size_distribution.pm10.1y.1h.IT04L_Ispra-B.IT04L_DMPS_Ispra-B.lev2.nc', 'http://thredds.nilu.no/thredds/dodsC/ebas/IT0004R.20150101000000.20200519115705.filter_absorption_photometer.aerosol_absorption_coefficient.pm10.1y.1h.IT04L_MageeAE31B.IT04L_bc.lev2.nc', 'http://thredds.nilu.no/thredds/dodsC/ebas/IT0004R.20150101000000.20200311122208.filter_absorption_photometer.aerosol_absorption_coefficient.pm10.1y.1h.IT04L_MageeAE31A.IT04L_bc.lev2.nc', 'http://thredds.nilu.no/thredds/dodsC/ebas/IT0004R.20140101000000.20200519115705.filter_absorption_photometer.aerosol_absorption_coefficient.pm10.1y.1h.IT04L_MageeAE31B.IT04L_bc.lev2.nc', 'http://thredds.nilu.no/thredds/dodsC/ebas/IT0004R.20140101000000.20151106000000.dmps.particle_number_size_distribution.aerosol.1y.1h.IT04L_Ispra-B_70847419.IT04L_DMPS_Ispra-B.lev2.nc', 'http://thredds.nilu.no/thredds/dodsC/ebas/IT0004R.20140101000000.20151105000000.dmps.particle_number_size_distribution.aerosol.1y.1h.IT04L_Ispra-B.IT04L_DMPS_Ispra-B.lev2.nc', 'http://thredds.nilu.no/thredds/dodsC/ebas/IT0004R.20120101000000.20200519115705.filter_absorption_photometer.aerosol_absorption_coefficient.pm10.2y.1h.IT04L_MageeAE31B.IT04L_bc.lev2.nc', 'http://thredds.nilu.no/thredds/dodsC/ebas/IT0004R.20120101000000.20200311123349.filter_absorption_photometer.aerosol_absorption_coefficient.pm10.3y.1h.IT04L_MageeAE31A.IT04L_bc.lev2.nc', 'http://thredds.nilu.no/thredds/dodsC/ebas/IT0004R.20120101000000.20181205100800.dmps.particle_number_size_distribution.aerosol.11mo.1h.IT04L_Ispra-B.IT04L_DMPS_Ispra-B.lev2.nc', 'http://thredds.nilu.no/thredds/dodsC/ebas/IT0004R.20090101000000.20181205100800.dmps.particle_number_size_distribution.aerosol.3y.1h.IT04L_Ispra_B.IT04L_DMPS_Ispra_B.lev2.nc', 'http://thredds.nilu.no/thredds/dodsC/ebas/IT0004R.20080101000000.20181205113000.filter_absorption_photometer.aerosol_absorption_coefficient.aerosol.4y.1h.IT04L_MAAP-5012_118.IT04L_bc.lev2.nc', 'http://thredds.nilu.no/thredds/dodsC/ebas/IT0004R.20080101000000.20181205100800.dmps.particle_number_size_distribution.aerosol.1y.1h.IT04L_Ispra_A.IT04L_DMPS_Ispra_A.lev2_dup1.nc', 'http://thredds.nilu.no/thredds/dodsC/ebas/IT0004R.20080101000000.20181205100800.dmps.particle_number_size_distribution.aerosol.1y.1h.IT04L_Ispra_A.IT04L_DMPS_Ispra_A.lev2.nc', 'http://thredds.nilu.no/thredds/dodsC/ebas/IT0004R.20080101000000.20160707163320.filter_absorption_photometer.aerosol_absorption_coefficient.pm10.4y.1h.IT04L_MageeAE31.IT04L_bc.lev2.nc', 'http://thredds.nilu.no/thredds/dodsC/ebas/IT0004R.20070101000000.20160707141136.filter_absorption_photometer.aerosol_absorption_coefficient.pm10.1y.1h.IT04L_MageeAE31.IT04L_bc.lev2.nc', 'http://thredds.nilu.no/thredds/dodsC/ebas/IT0004R.20060101000000.20200519115705.filter_absorption_photometer.aerosol_absorption_coefficient.pm10.1y.1h.IT04L_MageeAE31B.IT04L_bc.lev2.nc', 'http://thredds.nilu.no/thredds/dodsC/ebas/IT0004R.20040101000000.20170626072658.filter_absorption_photometer.aerosol_absorption_coefficient.pm10.2y.1h.IT04L_Magee_AE31_IPR.IT04L_aethalometer_AE31.lev2.nc', 'https://thredds.nilu.no/thredds/fileServer/ebas/DE0043G.20160101000000.20210525072756.filter_absorption_photometer...5y.1h.DE09L_MAAP_5012_PM10.DE09L_abs_coef_MAAP.lev2.nc', 'https://thredds.nilu.no/thredds/fileServer/ebas/DE0043G.20190101000000.20210611110815.optical_particle_size_spectrometer...2y.1h.DE09L_Grimm_180_HPB.DE09L_V0.lev2.nc', 'https://thredds.nilu.no/thredds/fileServer/ebas/DE0067K.20171122000000.20210429000000.smps...3y.1h.DE08L_TROPOS_SMPS_LE_Mitte.DE08L_TROPOS_CL_SMPS.lev2.nc', 'http://thredds.nilu.no/thredds/dodsC/ebas/HU0002R.20170101000000.20200508122726.filter_absorption_photometer.aerosol_absorption_coefficient.pm10.2y.1h.HU01L_GMD_CLAP-3W_KPS_pm10.HU01L_abs_coef.lev2.nc', 'http://thredds.nilu.no/thredds/dodsC/ebas/HU0002R.20130101000000.20200508122726.filter_absorption_photometer.aerosol_absorption_coefficient.pm10.4y.1h.HU01L_GMD_CLAP-3W_KPS_pm10.HU01L_abs_coef.lev2.nc', 'http://thredds.nilu.no/thredds/dodsC/ebas/HU0002R.20120523160000.20160817102045.filter_absorption_photometer.aerosol_absorption_coefficient.aerosol.7mo.1h.HU01L_GMD_CLAP-3W_KPS.HU01L_abs_coef.lev2.nc', 'http://thredds.nilu.no/thredds/dodsC/ebas/HU0002R.20120101000000.20160817101028.filter_absorption_photometer.aerosol_absorption_coefficient.aerosol.5mo.1h.HU01L_GMD_CLAP-3W_KPS.HU01L_abs_coef.lev2.nc', 'http://thredds.nilu.no/thredds/dodsC/ebas/HU0002R.20080101000000.20200304080636.filter_absorption_photometer.aerosol_absorption_coefficient.pm10.5y.1h.HU01L_RadianceResearch_PSAP-1W_KPS_pm10.HU01L_abs_coef.lev2.nc', 'http://thredds.nilu.no/thredds/dodsC/ebas/HU0002R.20060101000000.20200304080118.filter_absorption_photometer.aerosol_absorption_coefficient.pm1.3y.1h.HU01L_RadianceResearch_PSAP-1W_KPS_pm1.HU01L_abs_coef.lev2.nc', 'https://data.earlinet.org/api/services/restapi/products/id/1/downloads', 'https://data.earlinet.org/api/services/restapi/products/id/3/downloads', 'https://data.earlinet.org/api/services/restapi/products/id/4/downloads', 'https://data.earlinet.org/api/services/restapi/products/id/6/downloads', 'https://data.earlinet.org/api/services/restapi/products/id/8/downloads', 'https://data.earlinet.org/api/services/restapi/products/id/10/downloads', 'https://data.earlinet.org/api/services/restapi/products/id/15/downloads', 'https://data.earlinet.org/api/services/restapi/products/id/18/downloads', 'https://data.earlinet.org/api/services/restapi/products/id/19/downloads', 'https://data.earlinet.org/api/services/restapi/products/id/21/downloads', 'https://data.earlinet.org/api/services/restapi/products/id/22/downloads', 'https://data.earlinet.org/api/services/restapi/products/id/23/downloads', 'https://data.earlinet.org/api/services/restapi/products/id/27/downloads', 'https://data.earlinet.org/api/services/restapi/products/id/28/downloads', 'https://data.earlinet.org/api/services/restapi/products/id/29/downloads', 'https://data.earlinet.org/api/services/restapi/products/id/33/downloads', 'https://data.earlinet.org/api/services/restapi/products/id/34/downloads', 'https://data.earlinet.org/api/services/restapi/products/id/36/downloads', 'https://data.earlinet.org/api/services/restapi/products/id/41/downloads', 'https://data.earlinet.org/api/services/restapi/products/id/43/downloads', 'https://data.earlinet.org/api/services/restapi/products/id/46/downloads', 'https://data.earlinet.org/api/services/restapi/products/id/48/downloads', 'https://data.earlinet.org/api/services/restapi/products/id/49/downloads', 'https://data.earlinet.org/api/services/restapi/products/id/51/downloads', 'https://data.earlinet.org/api/services/restapi/products/id/52/downloads', 'https://data.earlinet.org/api/services/restapi/products/id/54/downloads', 'https://data.earlinet.org/api/services/restapi/products/id/57/downloads', 'https://data.earlinet.org/api/services/restapi/products/id/59/downloads', 'https://data.earlinet.org/api/services/restapi/products/id/60/downloads', 'https://data.earlinet.org/api/services/restapi/products/id/64/downloads', 'https://data.earlinet.org/api/services/restapi/products/id/66/downloads', 'https://data.earlinet.org/api/services/restapi/products/id/69/downloads', 'https://data.earlinet.org/api/services/restapi/products/id/70/downloads', 'https://data.earlinet.org/api/services/restapi/products/id/71/downloads', 'https://data.earlinet.org/api/services/restapi/products/id/73/downloads', 'https://data.earlinet.org/api/services/restapi/products/id/74/downloads', 'https://data.earlinet.org/api/services/restapi/products/id/78/downloads', 'https://data.earlinet.org/api/services/restapi/products/id/83/downloads', 'https://data.earlinet.org/api/services/restapi/products/id/85/downloads', 'https://data.earlinet.org/api/services/restapi/products/id/89/downloads', 'https://data.earlinet.org/api/services/restapi/products/id/90/downloads', 'https://data.earlinet.org/api/services/restapi/products/id/93/downloads', 'https://data.earlinet.org/api/services/restapi/products/id/94/downloads', 'https://data.earlinet.org/api/services/restapi/products/id/98/downloads', 'https://data.earlinet.org/api/services/restapi/products/id/99/downloads', 'https://data.earlinet.org/api/services/restapi/products/id/102/downloads', 'https://data.earlinet.org/api/services/restapi/products/id/103/downloads', 'https://data.earlinet.org/api/services/restapi/products/id/104/downloads', 'https://data.earlinet.org/api/services/restapi/products/id/107/downloads']\n"
     ]
    }
   ],
   "source": [
    "# bounding box around Norway\n",
    "lon0, lat0, lon1, lat1 = 1.99207807783, 42.0788841824, 41.29341841, 80.6571442736\n",
    "list_of_variables = get_list_variables()\n",
    "variables = [var['variable_name'] for var in list_of_variables]\n",
    "start_time = \"1970-01-01\"\n",
    "end_time = \"2020-01-01\"\n",
    "\n",
    "temporal_extent=[start_time,end_time]\n",
    "spatial_extent=[lon0, lat0, lon1, lat1]\n",
    "\n",
    "# example only fetching the first variable\n",
    "#datasets = list_datasets(variables[0:1],temporal_extent,spatial_extent)\n",
    "datasets = list_datasets(variables,temporal_extent,spatial_extent)\n",
    "\n",
    "print(datasets[0:100])"
   ]
  },
  {
   "cell_type": "markdown",
   "metadata": {},
   "source": [
    "# Read datasets"
   ]
  },
  {
   "cell_type": "code",
   "execution_count": 17,
   "metadata": {},
   "outputs": [],
   "source": [
    "def read_dataset(url, variables):\n",
    "\n",
    "    # map variables\n",
    "    mapping = {'aerosol.absorption.coefficient':'Aerosol Properties',\n",
    "                'aerosol.backscatter.coefficient':'Aerosol Properties',\n",
    "                'aerosol.backscatter.coefficient.hemispheric':'Aerosol Properties',\n",
    "                'aerosol.backscatter.ratio':'Aerosol Properties',\n",
    "                'aerosol.depolarisation.coefficient':'Aerosol Properties',\n",
    "                'aerosol.depolarisation.ratio':'Aerosol Properties',\n",
    "                'aerosol.extinction.coefficient':'Aerosol Properties',\n",
    "                'aerosol.extinction.ratio':'Aerosol Properties',\n",
    "                'aerosol.extinction.to.backscatter.ratio':'Aerosol Properties',\n",
    "                'aerosol.optical.depth':'Aerosol Properties',\n",
    "                'aerosol.optical.depth.550':'Aerosol Properties',\n",
    "                'aerosol.rayleigh.backscatter':'Aerosol Properties',\n",
    "                'aerosol.scattering.coefficient':'Aerosol Properties',\n",
    "                'cloud.aerosol.target.classification':'Cloud Properties',\n",
    "                'cloud.fraction':'Cloud Properties',\n",
    "                'cloud.mask':'Cloud Properties',\n",
    "                'particle.number.concentration':'Aerosol Properties',\n",
    "                'particle.number.size.distribution':'Aerosol Properties'}\n",
    "    \n",
    "    # For InSitu specific variables\n",
    "    actris_mapping = {'particle_number_size_distribution':'particle.number.size.distribution',\n",
    "                    'aerosol_absorption_coefficient':'aerosol.absorption.coefficient',\n",
    "                    'aerosol_light_backscattering_coefficient':'aerosol.backscatter.coefficient.hemispheric',\n",
    "                    'aerosol_light_backscattering_coefficient':'aerosol.backscatter.coefficient',\n",
    "                    'aerosol_light_scattering_coefficient':'aerosol.scattering.coefficient',\n",
    "                    None:'aerosol.backscatter.ratio',\n",
    "                    None:'aerosol.depolarisation.coefficient',\n",
    "                    None:'aerosol.depolarisation.ratio',\n",
    "                    None:'aerosol.extinction.coefficient',\n",
    "                    None:'aerosol.extinction.ratio',\n",
    "                    None:'aerosol.extinction.to.backscatter.ratio',\n",
    "                    None:'aerosol.optical.depth',\n",
    "                    None:'aerosol.optical.depth.550',\n",
    "                    None:'aerosol.rayleigh.backscatter',\n",
    "                    None:'cloud.aerosol.target.classification',\n",
    "                    None:'cloud.fraction',\n",
    "                    None:'cloud.mask',\n",
    "                    'particle_number_concentration':'particle.number.concentration'}\n",
    "\n",
    "    varlist_tmp = []\n",
    "    for k,v in mapping.items():\n",
    "        if v in variables:\n",
    "            varlist_tmp.append(k)\n",
    "\n",
    "    actris_varlist = []\n",
    "    for k,v in actris_mapping.items():\n",
    "        if v in varlist_tmp:\n",
    "            actris_varlist.append(k)\n",
    "\n",
    "    print(actris_varlist)\n",
    "\n",
    "    ds = xr.open_dataset(url)\n",
    "    var_list = []\n",
    "    for varname, da in ds.data_vars.items():\n",
    "        if 'metadata' in varname or 'time' in varname or '_qc' in varname:\n",
    "            pass\n",
    "        #ext in url_string for ext in extensionsToCheck\n",
    "        elif any(var in varname for var in actris_varlist):\n",
    "            var_list.append(varname)\n",
    "        else:\n",
    "            pass\n",
    "    print(\"varlist: \", var_list)\n",
    "    return ds[var_list]"
   ]
  },
  {
   "cell_type": "code",
   "execution_count": 18,
   "metadata": {},
   "outputs": [
    {
     "name": "stdout",
     "output_type": "stream",
     "text": [
      "['particle_number_size_distribution', 'aerosol_absorption_coefficient', 'aerosol_light_backscattering_coefficient', 'aerosol_light_scattering_coefficient', 'particle_number_concentration']\n",
      "varlist:  ['aerosol_absorption_coefficient_prec1587', 'aerosol_absorption_coefficient_amean', 'aerosol_absorption_coefficient_perc8413']\n",
      "<xarray.Dataset>\n",
      "Dimensions:                                  (Wavelength: 1, time: 2446)\n",
      "Coordinates:\n",
      "  * Wavelength                               (Wavelength) float64 670.0\n",
      "  * time                                     (time) datetime64[ns] 2020-01-01...\n",
      "Data variables:\n",
      "    aerosol_absorption_coefficient_prec1587  (Wavelength, time) float64 ...\n",
      "    aerosol_absorption_coefficient_amean     (Wavelength, time) float64 ...\n",
      "    aerosol_absorption_coefficient_perc8413  (Wavelength, time) float64 ...\n",
      "Attributes:\n",
      "    Conventions:                   CF-1.7, ACDD-1.3\n",
      "    featureType:                   timeSeries\n",
      "    title:                         Ground based in situ observations of aeros...\n",
      "    keywords:                      pm10, Melpitz, aerosol_absorption_coeffici...\n",
      "    id:                            DE0044R.20200101000000.20200428062924.filt...\n",
      "    naming_authority:              EBAS\n",
      "    project:                       ACTRIS, EMEP, GAW-WDCA\n",
      "    acknowledgement:               Request acknowledgement details from data ...\n",
      "    license:                       ACTRIS: http://actris.nilu.no/Content/Docu...\n",
      "    summary:                       Ground based in situ observations of aeros...\n",
      "    source:                        surface observation\n",
      "    institution:                   DE08L, Leibniz Institute for Tropospheric ...\n",
      "    processing_level:              processing_level_test\n",
      "    date_created:                  2020-04-28T06:29:24 UTC\n",
      "    date_metadata_modified:        2020-04-28T06:29:24 UTC\n",
      "    creator_name:                  Thomas Tuch, Alfred Wiedensohler\n",
      "    creator_type:                  person\n",
      "    creator_email:                 tuch@tropos.de, ali@tropos.de\n",
      "    creator_institution:           \"Leibniz Institute for Tropospheric Resear...\n",
      "    contributor_name:              Thomas Tuch\n",
      "    contributor_role:              data submitter\n",
      "    publisher_type:                institution\n",
      "    publisher_name:                NILU - Norwegian Institute for Air Researc...\n",
      "    publisher_institution:         NILU - Norwegian Institute for Air Researc...\n",
      "    publisher_email:               ebas@nilu.no\n",
      "    publisher_url:                 https://www.nilu.no/\n",
      "    geospatial_bounds:             POINT Z (51.53014 12.93386 86.0)\n",
      "    geospatial_bounds_crs:         EPSG:4979\n",
      "    geospatial_lat_min:            51.53014\n",
      "    geospatial_lat_max:            51.53014\n",
      "    geospatial_lon_min:            12.93386\n",
      "    geospatial_lon_max:            12.93386\n",
      "    geospatial_vertical_min:       86.0\n",
      "    geospatial_vertical_max:       86.0\n",
      "    geospatial_vertical_positive:  up\n",
      "    time_coverage_start:           2020-01-01T00:00:00 UTC\n",
      "    time_coverage_end:             2020-04-28T06:00:00 UTC\n",
      "    time_coverage_duration:        P0000-03-27T06:00:00\n",
      "    time_coverage_resolution:      P0000-00-00T01:00:00\n",
      "    timezone:                      UTC\n",
      "    ebas_framework_acronym:        ACTRIS, EMEP, GAW-WDCA\n",
      "    ebas_framework_name:           European Research Infrastructure for the o...\n",
      "    ebas_framework_description:    ACTRIS is the European Research Infrastruc...\n",
      "    ebas_framework_contact_name:   Cathrine Lund-Myhre, Kjetil Tørseth, Marku...\n",
      "    ebas_framework_contact_email:  clm@nilu.no, kt@nilu.no, Markus.Fiebig@nil...\n",
      "    Metadata_Conventions:          Unidata Dataset Discovery v1.0\n",
      "    geospatial_lat_units:          degrees_north\n",
      "    geospatial_lon_units:          degrees_east\n",
      "    comment:                       {\\n    \"Data definition\": \"EBAS_1.1\", \\n  ...\n",
      "    standard_name_vocabulary:      CF-1.7, ACDD-1.3\n",
      "    history:                       None\n",
      "    creator_url:                   ebas.nilu.no\n"
     ]
    }
   ],
   "source": [
    "# InSitu\n",
    "variables = ['Aerosol Properties']\n",
    "url = 'http://thredds.nilu.no/thredds/dodsC/ebas/DE0044R.20200101000000.20200428062924.filter_absorption_photometer.aerosol_absorption_coefficient.pm10.17w.1h.DE08L_Thermo_5012_MEL.DE08L_MAAP_MEL.lev2.nc'\n",
    "ds = read_dataset(url, variables)\n",
    "print(ds)"
   ]
  },
  {
   "cell_type": "code",
   "execution_count": null,
   "metadata": {},
   "outputs": [],
   "source": []
  }
 ],
 "metadata": {
  "kernelspec": {
   "display_name": "Python 3",
   "language": "python",
   "name": "python3"
  },
  "language_info": {
   "codemirror_mode": {
    "name": "ipython",
    "version": 3
   },
   "file_extension": ".py",
   "mimetype": "text/x-python",
   "name": "python",
   "nbconvert_exporter": "python",
   "pygments_lexer": "ipython3",
   "version": "3.8.3"
  }
 },
 "nbformat": 4,
 "nbformat_minor": 4
}
