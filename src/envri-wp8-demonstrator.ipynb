{
 "cells": [
  {
   "cell_type": "code",
   "execution_count": 1,
   "id": "moderate-migration",
   "metadata": {},
   "outputs": [],
   "source": [
    "from csw_search import *"
   ]
  },
  {
   "cell_type": "code",
   "execution_count": 2,
   "id": "australian-darkness",
   "metadata": {},
   "outputs": [],
   "source": [
    "from datetime import datetime"
   ]
  },
  {
   "cell_type": "code",
   "execution_count": 4,
   "id": "under-navigation",
   "metadata": {
    "tags": []
   },
   "outputs": [
    {
     "name": "stdout",
     "output_type": "stream",
     "text": [
      "-- no thesaurus name for the record: https://nbs.csw.met.no?SERVICE=CSW&VERSION=2.0.2&outputSchema=http://www.isotc211.org/2005/gmd&REQUEST=GetRecordById&ID=S1B_EW_GRDM_1SDH_20191112T102556_20191112T102700_018893_023A21_7380\n",
      "-- no thesaurus name for the record: https://nbs.csw.met.no?SERVICE=CSW&VERSION=2.0.2&outputSchema=http://www.isotc211.org/2005/gmd&REQUEST=GetRecordById&ID=S1B_EW_GRDM_1SDH_20191112T102556_20191112T102700_018893_023A21_DB4B\n",
      "-- no thesaurus name for the record: https://nbs.csw.met.no?SERVICE=CSW&VERSION=2.0.2&outputSchema=http://www.isotc211.org/2005/gmd&REQUEST=GetRecordById&ID=S1A_IW_GRDM_1SDV_20200810T052057_20200810T052130_033840_03EC7E_9C21\n",
      "-- no thesaurus name for the record: https://nbs.csw.met.no?SERVICE=CSW&VERSION=2.0.2&outputSchema=http://www.isotc211.org/2005/gmd&REQUEST=GetRecordById&ID=S1A_IW_GRDM_1SDV_20200810T052238_20200810T052310_033840_03EC7E_BC5D\n",
      "-- no thesaurus name for the record: https://nbs.csw.met.no?SERVICE=CSW&VERSION=2.0.2&outputSchema=http://www.isotc211.org/2005/gmd&REQUEST=GetRecordById&ID=S2A_MSIL1C_20180708T115401_N0206_R023_T30VUM_20180708T135231\n",
      "-- no thesaurus name for the record: https://nbs.csw.met.no?SERVICE=CSW&VERSION=2.0.2&outputSchema=http://www.isotc211.org/2005/gmd&REQUEST=GetRecordById&ID=S2A_MSIL1C_20180708T115401_N0206_R023_T30VUP_20180708T135231\n",
      "-- no thesaurus name for the record: https://nbs.csw.met.no?SERVICE=CSW&VERSION=2.0.2&outputSchema=http://www.isotc211.org/2005/gmd&REQUEST=GetRecordById&ID=S1A_IW_GRDM_1SDV_20200810T052122_20200810T052155_033840_03EC7E_C930\n",
      "-- no thesaurus name for the record: https://nbs.csw.met.no?SERVICE=CSW&VERSION=2.0.2&outputSchema=http://www.isotc211.org/2005/gmd&REQUEST=GetRecordById&ID=S1A_IW_GRDM_1SDV_20200810T163836_20200810T163909_033847_03ECB6_13AA\n",
      "-- no thesaurus name for the record: https://nbs.csw.met.no?SERVICE=CSW&VERSION=2.0.2&outputSchema=http://www.isotc211.org/2005/gmd&REQUEST=GetRecordById&ID=S2A_MSIL1C_20190728T123701_N0208_R095_T33XWF_20190728T143458\n",
      "-- no thesaurus name for the record: https://nbs.csw.met.no?SERVICE=CSW&VERSION=2.0.2&outputSchema=http://www.isotc211.org/2005/gmd&REQUEST=GetRecordById&ID=S2A_MSIL1C_20190728T123701_N0208_R095_T33XWG_20190728T143458\n",
      "-- no keywords for the record: http://catalogue2.sedoo.fr/geonetwork/srv/eng/csw-iagos?SERVICE=CSW&VERSION=2.0.2&outputSchema=http://www.isotc211.org/2005/gmd&REQUEST=GetRecordById&ID=95941ca3-7251-4bed-877a-d2a99fb719cc\n",
      "-- no keywords for the record: http://catalogue2.sedoo.fr/geonetwork/srv/eng/csw-iagos?SERVICE=CSW&VERSION=2.0.2&outputSchema=http://www.isotc211.org/2005/gmd&REQUEST=GetRecordById&ID=c570d452-0f05-4227-bed4-c1905c2951eb\n",
      "-- no keywords for the record: http://catalogue2.sedoo.fr/geonetwork/srv/eng/csw-iagos?SERVICE=CSW&VERSION=2.0.2&outputSchema=http://www.isotc211.org/2005/gmd&REQUEST=GetRecordById&ID=61e54760-86ba-4b69-804b-06a7793f9104\n",
      "-- no keywords for the record: http://catalogue2.sedoo.fr/geonetwork/srv/eng/csw-iagos?SERVICE=CSW&VERSION=2.0.2&outputSchema=http://www.isotc211.org/2005/gmd&REQUEST=GetRecordById&ID=575882c0-64ce-4648-bb19-00030d5d63af\n",
      "-- no keywords for the record: http://catalogue2.sedoo.fr/geonetwork/srv/eng/csw-iagos?SERVICE=CSW&VERSION=2.0.2&outputSchema=http://www.isotc211.org/2005/gmd&REQUEST=GetRecordById&ID=a9b2506a-c606-49c7-b387-1d722c69fa03\n",
      "-- no keywords for the record: http://catalogue2.sedoo.fr/geonetwork/srv/eng/csw-iagos?SERVICE=CSW&VERSION=2.0.2&outputSchema=http://www.isotc211.org/2005/gmd&REQUEST=GetRecordById&ID=4d3be8dd-c41a-4f35-8ba6-722cf12e2de3\n"
     ]
    },
    {
     "data": {
      "application/vnd.jupyter.widget-view+json": {
       "model_id": "39c506c266fd47d2a6f838e74fef2861",
       "version_major": 2,
       "version_minor": 0
      },
      "text/plain": [
       "VBox(children=(HBox(children=(DatetimePicker(value=datetime.datetime(2000, 1, 1, 0, 0, tzinfo=<UTC>)), Datetim…"
      ]
     },
     "metadata": {},
     "output_type": "display_data"
    }
   ],
   "source": [
    "from ipyleaflet import Map, basemaps, basemap_to_tiles, DrawControl, GeoJSON\n",
    "from ipydatetime import DatetimePicker\n",
    "from IPython.core.display import display\n",
    "import ipyleaflet\n",
    "from ipywidgets import widgets, Layout\n",
    "from datetime import datetime, timezone\n",
    "import dateutil\n",
    "import dateutil.parser\n",
    "import pytz\n",
    "\n",
    "# Clear output panel\n",
    "def mk_clear_button(target, action_name):\n",
    "    button = widgets.Button(description=action_name.replace('_', ' '))\n",
    "    action = getattr(target, action_name)\n",
    "    button.on_click(lambda *a: action())\n",
    "    return button\n",
    "\n",
    "# Launch search\n",
    "def on_search_clicked(b):\n",
    "    with out:\n",
    "        out.clear_output()\n",
    "        start = dateutil.parser.parse(str(datetime_picker_start.value))\n",
    "        end = dateutil.parser.parse(str(datetime_picker_end.value))\n",
    "        print(\"QUERY\\nbbox=\" + str(bbox) + \"\\nbetween \" + str(start) + \" and \" + str(end)+ \"\\n\")\n",
    "        #records = csw_query(endpoint=csw_endpoints['IAGOS'], bbox=bbox, start=start, stop=end, kw_names=None, crs=\"urn:ogc:def:crs:OGC:1.3:CRS84\")\n",
    "        \n",
    "def mk_search_button():\n",
    "    button = widgets.Button(description=\"Search\")\n",
    "    button.on_click(on_search_clicked)\n",
    "    return button\n",
    "\n",
    "# Display coordinates\n",
    "def handle_interaction(**kwargs):\n",
    "    if kwargs.get('type') == 'mousemove':\n",
    "        coords = kwargs.get('coordinates')\n",
    "        lat_label.value = str(coords[0]) \n",
    "        lon_label.value = str(coords[1])\n",
    "\n",
    "def handle_click(**kwargs):\n",
    "    with out:\n",
    "        print(kwargs)\n",
    "        print(type(kwargs))\n",
    "        # kwargs['feature']['properties'][foobar] = 10 \n",
    "        \n",
    "def on_draw_handler(draw, action, geo_json):\n",
    "    with out:\n",
    "        out.clear_output()\n",
    "        for i in map_panel.layers:\n",
    "            if type(i) == ipyleaflet.GeoJSON:\n",
    "                map_panel.remove_layer(i)\n",
    "        bounds = geo_json['geometry']['coordinates'][0]\n",
    "        ll = bounds[0]\n",
    "        ur = bounds[2]\n",
    "        corners = [ll, ur]\n",
    "        global bbox\n",
    "        bbox = [item for sublist in corners for item in sublist]\n",
    "        searchbox = GeoJSON(data=geo_json)\n",
    "        searchbox.on_click(handle_click)\n",
    "        map_panel.add_layer(searchbox)\n",
    "        draw.clear_rectangles()\n",
    "\n",
    "def selection_variables_list(values):\n",
    "    return widgets.SelectMultiple(options=values,\n",
    "    rows=10,\n",
    "    description='Variables',\n",
    "    disabled=False,\n",
    "    layout=Layout(width='800px',)\n",
    ")\n",
    "        \n",
    "def get_start_date():\n",
    "    return datetime(2000, 1, 1, 0, 0, tzinfo=pytz.utc)\n",
    "\n",
    "def get_end_date():\n",
    "    return datetime.now(timezone.utc)\n",
    "    \n",
    "csw_endpoints = {'SIOS' : 'https://nbs.csw.met.no', 'IAGOS' : 'http://catalogue2.sedoo.fr/geonetwork/srv/eng/csw-iagos' }\n",
    "rest_endpoints = { 'ACTRIS' : 'https://prod-actris-md.nilu.no' }\n",
    "\n",
    "# Temporal extent\n",
    "datetime_picker_start = DatetimePicker(value=get_start_date())\n",
    "datetime_picker_end = DatetimePicker(value=get_end_date())\n",
    "\n",
    "# Output panel\n",
    "out = widgets.Output(layout=widgets.Layout(width='50%', \n",
    "                               height='400px', \n",
    "                               overflow_y='scroll',\n",
    "                               border='1px solid black'))\n",
    "clear_output = mk_clear_button(out, 'clear_output')\n",
    "search = mk_search_button()\n",
    "\n",
    "# Map panel\n",
    "map_panel = ipyleaflet.Map(layers=(basemap_to_tiles(basemaps.Stamen.Terrain), ), center=(49, 11), zoom=4)\n",
    "controls = ipyleaflet.LayersControl(position='topright')\n",
    "lat_label = widgets.Label()\n",
    "lon_label = widgets.Label()\n",
    "map_panel.add_control(controls)\n",
    "map_panel.on_interaction(handle_interaction)\n",
    "global bbox\n",
    "bbox = [-180, -90, 180, 90]\n",
    "\n",
    "list_variables = selection_variables_list(get_csw_keywords(csw_endpoints))\n",
    "\n",
    "#Draw panel for selection on map\n",
    "draw = ipyleaflet.DrawControl(\n",
    "    edit=True,\n",
    "    remove=True,\n",
    "    circlemarker={},\n",
    "    marker={},\n",
    "    circle={},    \n",
    "    polyline={},\n",
    "    polygon = {},\n",
    "    rectangle={'shapeOptions': {}})\n",
    "draw.on_draw(on_draw_handler)\n",
    "map_panel.add_control(draw)\n",
    "\n",
    "dashboard = widgets.VBox([ \n",
    "                    widgets.HBox([datetime_picker_start, datetime_picker_end]), \n",
    "                    widgets.HBox([list_variables]), \n",
    "                    widgets.HBox([clear_output, search]),\n",
    "                    widgets.HBox([map_panel, out]), widgets.HBox([lon_label, lat_label])])\n",
    "\n",
    "dashboard\n"
   ]
  },
  {
   "cell_type": "code",
   "execution_count": null,
   "id": "monetary-coalition",
   "metadata": {},
   "outputs": [],
   "source": []
  },
  {
   "cell_type": "code",
   "execution_count": null,
   "id": "social-simple",
   "metadata": {},
   "outputs": [],
   "source": []
  },
  {
   "cell_type": "code",
   "execution_count": null,
   "id": "regional-growth",
   "metadata": {},
   "outputs": [],
   "source": []
  },
  {
   "cell_type": "code",
   "execution_count": null,
   "id": "permanent-white",
   "metadata": {},
   "outputs": [],
   "source": []
  },
  {
   "cell_type": "code",
   "execution_count": null,
   "id": "golden-volunteer",
   "metadata": {},
   "outputs": [],
   "source": []
  },
  {
   "cell_type": "code",
   "execution_count": null,
   "id": "spectacular-injury",
   "metadata": {},
   "outputs": [],
   "source": []
  },
  {
   "cell_type": "code",
   "execution_count": null,
   "id": "hidden-measurement",
   "metadata": {},
   "outputs": [],
   "source": []
  }
 ],
 "metadata": {
  "kernelspec": {
   "display_name": "Python 3",
   "language": "python",
   "name": "python3"
  },
  "language_info": {
   "codemirror_mode": {
    "name": "ipython",
    "version": 3
   },
   "file_extension": ".py",
   "mimetype": "text/x-python",
   "name": "python",
   "nbconvert_exporter": "python",
   "pygments_lexer": "ipython3",
   "version": "3.6.8"
  }
 },
 "nbformat": 4,
 "nbformat_minor": 5
}
