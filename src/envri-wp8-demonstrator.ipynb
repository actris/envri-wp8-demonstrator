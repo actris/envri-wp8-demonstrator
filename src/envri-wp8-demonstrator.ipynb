{
 "cells": [
  {
   "cell_type": "code",
   "execution_count": 1,
   "id": "single-colony",
   "metadata": {},
   "outputs": [],
   "source": [
    "from csw_search import *"
   ]
  },
  {
   "cell_type": "code",
   "execution_count": 2,
   "id": "amended-guide",
   "metadata": {},
   "outputs": [],
   "source": [
    "from datetime import datetime"
   ]
  },
  {
   "cell_type": "code",
   "execution_count": 3,
   "id": "behind-senegal",
   "metadata": {
    "tags": []
   },
   "outputs": [
    {
     "name": "stderr",
     "output_type": "stream",
     "text": [
      "/home/dboulang/.local/share/virtualenvs/src-fUDVakiZ/lib/python3.6/site-packages/owslib/iso.py:123: FutureWarning: the .identification and .serviceidentification properties will merge into .identification being a list of properties.  This is currently implemented in .identificationinfo.  Please see https://github.com/geopython/OWSLib/issues/38 for more information\n",
      "  FutureWarning)\n",
      "/home/dboulang/.local/share/virtualenvs/src-fUDVakiZ/lib/python3.6/site-packages/owslib/iso.py:566: FutureWarning: The .keywords and .keywords2 properties will merge into the .keywords property in the future, with .keywords becoming a list of MD_Keywords instances. This is currently implemented in .keywords2. Please see https://github.com/geopython/OWSLib/issues/301 for more information\n",
      "  FutureWarning)\n"
     ]
    },
    {
     "name": "stdout",
     "output_type": "stream",
     "text": [
      "-- keywords or thesaurus not provided for the record: http://catalogue2.sedoo.fr/geonetwork/srv/eng/csw-iagos?SERVICE=CSW&VERSION=2.0.2&outputSchema=http://www.isotc211.org/2005/gmd&elementsetname=full&REQUEST=GetRecordById&ID=c570d452-0f05-4227-bed4-c1905c2951eb\n",
      "-- keywords or thesaurus not provided for the record: http://catalogue2.sedoo.fr/geonetwork/srv/eng/csw-iagos?SERVICE=CSW&VERSION=2.0.2&outputSchema=http://www.isotc211.org/2005/gmd&elementsetname=full&REQUEST=GetRecordById&ID=a9b2506a-c606-49c7-b387-1d722c69fa03\n",
      "-- keywords or thesaurus not provided for the record: http://catalogue2.sedoo.fr/geonetwork/srv/eng/csw-iagos?SERVICE=CSW&VERSION=2.0.2&outputSchema=http://www.isotc211.org/2005/gmd&elementsetname=full&REQUEST=GetRecordById&ID=4d3be8dd-c41a-4f35-8ba6-722cf12e2de3\n"
     ]
    },
    {
     "data": {
      "application/vnd.jupyter.widget-view+json": {
       "model_id": "0d0dfab5dd0c41b9b1d980b4dcd5c9cf",
       "version_major": 2,
       "version_minor": 0
      },
      "text/plain": [
       "VBox(children=(HBox(children=(DatetimePicker(value=datetime.datetime(2000, 1, 1, 0, 0, tzinfo=<UTC>)), Datetim…"
      ]
     },
     "metadata": {},
     "output_type": "display_data"
    }
   ],
   "source": [
    "from ipyleaflet import Map, basemaps, basemap_to_tiles, DrawControl, GeoJSON\n",
    "from ipydatetime import DatetimePicker\n",
    "from IPython.core.display import display\n",
    "import ipyleaflet\n",
    "from ipywidgets import widgets, Layout\n",
    "from datetime import datetime, timezone\n",
    "import dateutil\n",
    "import dateutil.parser\n",
    "import pytz\n",
    "\n",
    "# Clear output panel\n",
    "def mk_clear_button(target, action_name):\n",
    "    button = widgets.Button(description=action_name.replace('_', ' '))\n",
    "    action = getattr(target, action_name)\n",
    "    button.on_click(lambda *a: action())\n",
    "    return button\n",
    "\n",
    "# Launch search\n",
    "def on_search_clicked(b):\n",
    "    with out:\n",
    "        out.clear_output()\n",
    "        start = dateutil.parser.parse(str(datetime_picker_start.value))\n",
    "        end = dateutil.parser.parse(str(datetime_picker_end.value))\n",
    "        print(\"QUERY\\nbbox=\" + str(bbox) + \"\\nbetween \" + str(start) + \" and \" + str(end)+ \"\\n\")\n",
    "        #records = csw_query(endpoint=csw_endpoints['IAGOS'], bbox=bbox, start=start, stop=end, kw_names=None, crs=\"urn:ogc:def:crs:OGC:1.3:CRS84\")\n",
    "        \n",
    "def mk_search_button():\n",
    "    button = widgets.Button(description=\"Search\")\n",
    "    button.on_click(on_search_clicked)\n",
    "    return button\n",
    "\n",
    "# Display coordinates\n",
    "def handle_interaction(**kwargs):\n",
    "    if kwargs.get('type') == 'mousemove':\n",
    "        coords = kwargs.get('coordinates')\n",
    "        lat_label.value = str(coords[0]) \n",
    "        lon_label.value = str(coords[1])\n",
    "\n",
    "def handle_click(**kwargs):\n",
    "    with out:\n",
    "        print(kwargs)\n",
    "        print(type(kwargs))\n",
    "        # kwargs['feature']['properties'][foobar] = 10 \n",
    "        \n",
    "def on_draw_handler(draw, action, geo_json):\n",
    "    with out:\n",
    "        out.clear_output()\n",
    "        for i in map_panel.layers:\n",
    "            if type(i) == ipyleaflet.GeoJSON:\n",
    "                map_panel.remove_layer(i)\n",
    "        bounds = geo_json['geometry']['coordinates'][0]\n",
    "        ll = bounds[0]\n",
    "        ur = bounds[2]\n",
    "        corners = [ll, ur]\n",
    "        global bbox\n",
    "        bbox = [item for sublist in corners for item in sublist]\n",
    "        searchbox = GeoJSON(data=geo_json)\n",
    "        searchbox.on_click(handle_click)\n",
    "        map_panel.add_layer(searchbox)\n",
    "        draw.clear_rectangles()\n",
    "\n",
    "def selection_variables_list(values):\n",
    "    return widgets.SelectMultiple(options=values,\n",
    "    rows=10,\n",
    "    description='Variables',\n",
    "    disabled=False,\n",
    "    layout=Layout(width='800px',)\n",
    ")\n",
    "        \n",
    "def get_start_date():\n",
    "    return datetime(2000, 1, 1, 0, 0, tzinfo=pytz.utc)\n",
    "\n",
    "def get_end_date():\n",
    "    return datetime.now(timezone.utc)\n",
    "    \n",
    "csw_endpoints = {'SIOS' : 'https://sios.csw.met.no', 'IAGOS' : 'http://catalogue2.sedoo.fr/geonetwork/srv/eng/csw-iagos' }\n",
    "rest_endpoints = { 'ACTRIS' : 'https://prod-actris-md.nilu.no' }\n",
    "accepted_vocabularies = { \"Climate and Forecast\", \"GCMD\"}\n",
    "\n",
    "# Temporal extent\n",
    "datetime_picker_start = DatetimePicker(value=get_start_date())\n",
    "datetime_picker_end = DatetimePicker(value=get_end_date())\n",
    "\n",
    "# Output panel\n",
    "out = widgets.Output(layout=widgets.Layout(width='50%', \n",
    "                               height='400px', \n",
    "                               overflow_y='scroll',\n",
    "                               border='1px solid black'))\n",
    "clear_output = mk_clear_button(out, 'clear_output')\n",
    "search = mk_search_button()\n",
    "\n",
    "# Map panel\n",
    "map_panel = ipyleaflet.Map(layers=(basemap_to_tiles(basemaps.Stamen.Terrain), ), center=(49, 11), zoom=4)\n",
    "controls = ipyleaflet.LayersControl(position='topright')\n",
    "lat_label = widgets.Label()\n",
    "lon_label = widgets.Label()\n",
    "map_panel.add_control(controls)\n",
    "map_panel.on_interaction(handle_interaction)\n",
    "global bbox\n",
    "bbox = [-180, -90, 180, 90]\n",
    "\n",
    "list_variables = selection_variables_list(get_csw_keywords(csw_endpoints, accepted_vocabularies))\n",
    "\n",
    "#Draw panel for selection on map\n",
    "draw = ipyleaflet.DrawControl(\n",
    "    edit=True,\n",
    "    remove=True,\n",
    "    circlemarker={},\n",
    "    marker={},\n",
    "    circle={},    \n",
    "    polyline={},\n",
    "    polygon = {},\n",
    "    rectangle={'shapeOptions': {}})\n",
    "draw.on_draw(on_draw_handler)\n",
    "map_panel.add_control(draw)\n",
    "\n",
    "dashboard = widgets.VBox([ \n",
    "                    widgets.HBox([datetime_picker_start, datetime_picker_end]), \n",
    "                    widgets.HBox([list_variables]), \n",
    "                    widgets.HBox([clear_output, search]),\n",
    "                    widgets.HBox([map_panel, out]), widgets.HBox([lon_label, lat_label])])\n",
    "\n",
    "dashboard\n"
   ]
  },
  {
   "cell_type": "code",
   "execution_count": null,
   "id": "joint-sussex",
   "metadata": {},
   "outputs": [],
   "source": []
  },
  {
   "cell_type": "code",
   "execution_count": null,
   "id": "afraid-departure",
   "metadata": {},
   "outputs": [],
   "source": []
  },
  {
   "cell_type": "code",
   "execution_count": null,
   "id": "returning-water",
   "metadata": {},
   "outputs": [],
   "source": []
  },
  {
   "cell_type": "code",
   "execution_count": null,
   "id": "amino-climate",
   "metadata": {},
   "outputs": [],
   "source": []
  },
  {
   "cell_type": "code",
   "execution_count": null,
   "id": "acquired-runner",
   "metadata": {},
   "outputs": [],
   "source": []
  },
  {
   "cell_type": "code",
   "execution_count": null,
   "id": "cross-harvard",
   "metadata": {},
   "outputs": [],
   "source": []
  },
  {
   "cell_type": "code",
   "execution_count": null,
   "id": "emerging-hydrogen",
   "metadata": {},
   "outputs": [],
   "source": []
  }
 ],
 "metadata": {
  "kernelspec": {
   "display_name": "Python 3",
   "language": "python",
   "name": "python3"
  },
  "language_info": {
   "codemirror_mode": {
    "name": "ipython",
    "version": 3
   },
   "file_extension": ".py",
   "mimetype": "text/x-python",
   "name": "python",
   "nbconvert_exporter": "python",
   "pygments_lexer": "ipython3",
   "version": "3.6.8"
  }
 },
 "nbformat": 4,
 "nbformat_minor": 5
}
